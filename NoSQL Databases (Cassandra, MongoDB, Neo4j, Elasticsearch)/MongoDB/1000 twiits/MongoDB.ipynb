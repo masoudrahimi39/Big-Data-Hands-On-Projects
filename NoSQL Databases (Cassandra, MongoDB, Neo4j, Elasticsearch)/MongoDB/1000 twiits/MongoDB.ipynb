{
 "cells": [
  {
   "cell_type": "code",
   "execution_count": null,
   "metadata": {},
   "outputs": [],
   "source": [
    "import requests\n",
    "import json\n",
    "from pymongo import MongoClient\n",
    "import time\n",
    "import re\n",
    "from pprint import pprint\n",
    "import pprint"
   ]
  },
  {
   "cell_type": "markdown",
   "metadata": {},
   "source": [
    "### connect to MongoDB"
   ]
  },
  {
   "cell_type": "code",
   "execution_count": null,
   "metadata": {},
   "outputs": [],
   "source": [
    "# connect to Mongo;  Port number Default: 27017; you have ot have MongoDB installed\n",
    "client = MongoClient('localhost', 27017)\n",
    "# Switch to Existing Database: sahamyab Database exists in MongoDB\n",
    "db = client['sahamyab']\n",
    "# Switch to existing collection; tweets collection exists in MongoDB database\n",
    "series_collection = db['tweets']\n"
   ]
  },
  {
   "cell_type": "markdown",
   "metadata": {},
   "source": [
    "### download 1000 tweets from sahamyab and save into MongoDB"
   ]
  },
  {
   "cell_type": "code",
   "execution_count": null,
   "metadata": {},
   "outputs": [],
   "source": [
    "start_time = time.time() \n",
    "# download 1000 tweets from sahamyab\n",
    "while series_collection.count() < 1000:\n",
    "    # Getting last 10 twiits\n",
    "    response = requests.get('https://www.sahamyab.com/guest/twiter/list?v=0.1', headers={'User-Agent' : 'chrome/61'})\n",
    "    data = json.loads(response.text)\n",
    "    twiit_10 = data['items']\n",
    "    \n",
    "    # cheching if twitt is not in collection\n",
    "    for element in twiit_10 :\n",
    "        if series_collection.find_one(element) == None:\n",
    "            # insert data into mongodb\n",
    "            result = series_collection.insert_one(element)\n",
    "        \n",
    "    time.sleep(60 - time.time() % 60)\n",
    "    \n",
    "end_time = time.time()\n",
    "delta_time = end_time - start_time\n"
   ]
  },
  {
   "cell_type": "markdown",
   "metadata": {},
   "source": [
    "### The replacement of arabic characters with Persian characters"
   ]
  },
  {
   "cell_type": "markdown",
   "metadata": {},
   "source": [
    "replacing 'ي' with 'ی' and 'ك' with 'ک'"
   ]
  },
  {
   "cell_type": "code",
   "execution_count": null,
   "metadata": {},
   "outputs": [],
   "source": [
    "start_time = time.time()\n",
    "for document in series_collection.find({'content':{'$regex':'.*ك.*|.*ي.*'}}):\n",
    "    new_dict = document.copy()\n",
    "    # replacing 'ي' with 'ی' and 'ك' with 'ک'\n",
    "    new_dict['content'] = re.sub('ي', 'ی', new_dict['content'])\n",
    "    new_dict['content'] = re.sub('ك', 'ک', new_dict['content'])\n",
    "    db.tweets.update(document, new_dict)  \n",
    "\n",
    "end_time = time.time()\n",
    "delta_time = end_time - start_time \n",
    "print(delta_time)"
   ]
  },
  {
   "cell_type": "markdown",
   "metadata": {},
   "source": [
    "### Hashtags are extracted from the field named content"
   ]
  },
  {
   "cell_type": "code",
   "execution_count": null,
   "metadata": {},
   "outputs": [],
   "source": [
    "start_time = time.time() \n",
    "for document in series_collection.find({'content':{'$regex':'.*#.*'}}): \n",
    "    hashtags_sharp = re.findall('#\\w+', document['content'])\n",
    "    hashtags = [o.split('#')[1] for o in hashtags_sharp]  #removing shashtag sign\n",
    "    new_dict = {\"hashtags\": hashtags }\n",
    "    db.tweets.update(document, {\"$set\": new_dict })  \n",
    "\n",
    "end_time = time.time()\n",
    "delta_time = end_time - start_time\n",
    "print(delta_time)"
   ]
  },
  {
   "cell_type": "markdown",
   "metadata": {},
   "source": [
    "### Identify users whose mediaContentType is image/jpeg and whose parentId has value"
   ]
  },
  {
   "cell_type": "markdown",
   "metadata": {},
   "source": [
    "#### without using mongoDB index"
   ]
  },
  {
   "cell_type": "code",
   "execution_count": null,
   "metadata": {},
   "outputs": [],
   "source": [
    "start_time = time.time() \n",
    "res = series_collection.find({\n",
    "    '$and':[\n",
    "              {'mediaContentType':'image/jpeg'}, {'parentId':{ '$exists': True } } \n",
    "           ]}, {\"senderName\": 1})\n",
    "\n",
    "\n",
    "end_time = time.time()\n",
    "delta_time = end_time - start_time\n",
    "print(delta_time)\n",
    "\n",
    "lis=[]\n",
    "for i in res:\n",
    "    lis.append(i['senderName'])\n",
    "    pprint.pprint(i)"
   ]
  },
  {
   "cell_type": "markdown",
   "metadata": {},
   "source": [
    "#### using mongoDB index"
   ]
  },
  {
   "cell_type": "code",
   "execution_count": null,
   "metadata": {},
   "outputs": [],
   "source": [
    "### Adding index to field\n",
    "series_collection.create_index([(\"mediaContentType\", pymongo.DESCENDING), (\"parentId\", pymongo.DESCENDING)])\n",
    "\n",
    "start_time = time.time() \n",
    "res = series_collection.find({\n",
    "    '$and':[\n",
    "              {'mediaContentType':'image/jpeg'}, {'parentId':{ '$exists': True } } \n",
    "           ]}, {\"senderName\": 1, '_id':0})\n",
    "\n",
    "end_time = time.time()\n",
    "delta_time = end_time - start_time\n",
    "print('run time:', delta_time)\n",
    "\n",
    "lis = []\n",
    "for i in res:\n",
    "    lis.append(i['senderName'])\n",
    "    pprint.pprint(i)"
   ]
  },
  {
   "cell_type": "markdown",
   "metadata": {},
   "source": [
    "### add new fied named gov to the tweets which containing the hashtag of 'شبدر', 'شستا' and  'فولاد'"
   ]
  },
  {
   "cell_type": "markdown",
   "metadata": {},
   "source": [
    "#### without using mongoDB index"
   ]
  },
  {
   "cell_type": "code",
   "execution_count": null,
   "metadata": {},
   "outputs": [],
   "source": [
    "start_time = time.time() \n",
    "series_collection.update_many(\n",
    "              {'hashtags':{'$in': ['فولاد', 'شستا', 'شبندر'] }},\n",
    "              {'$set':{'gov': True }})\n",
    "\n",
    "end_time = time.time()\n",
    "delta_time = end_time - start_time\n",
    "print(delta_time)"
   ]
  },
  {
   "cell_type": "markdown",
   "metadata": {},
   "source": [
    "#### using mongoDb index"
   ]
  },
  {
   "cell_type": "code",
   "execution_count": null,
   "metadata": {},
   "outputs": [],
   "source": [
    "### Adding index to field\n",
    "series_collection.create_index(\n",
    "        [(\"hashtags\", pymongo.DESCENDING)])\n",
    "\n",
    "start_time = time.time() \n",
    "series_collection.update_many(\n",
    "   {'hashtags':{'$in': ['فولاد', 'شستا', 'شبندر'] }},\n",
    "   {'$set':{'gov': True }})\n",
    "  \n",
    "end_time = time.time()\n",
    "delta_time = end_time - start_time\n",
    "print('run time:', delta_time)"
   ]
  },
  {
   "cell_type": "markdown",
   "metadata": {},
   "source": [
    "### Find the senderName and senderProfileImage of users who tweet between 13:00 and 14:00"
   ]
  },
  {
   "cell_type": "code",
   "execution_count": null,
   "metadata": {},
   "outputs": [],
   "source": [
    "res = series_collection.find(\n",
    "    {'sendTimePersian':{'$regex':'.* 13:.*'} }, \n",
    "    {'senderName':1, 'senderProfileImage':1, '_id':0})\n",
    "\n",
    "end_time = time.time()\n",
    "delta_time = end_time - start_time\n",
    "print(delta_time)\n",
    "\n",
    "twitt_time_intvrl = []\n",
    "for i in res:\n",
    "    twitt_time_intvrl.append([i['senderName'],\n",
    "                            i['senderProfileImage']])\n",
    "    pprint.pprint(i)"
   ]
  },
  {
   "cell_type": "markdown",
   "metadata": {},
   "source": [
    "### find number of users in each group:"
   ]
  },
  {
   "cell_type": "markdown",
   "metadata": {},
   "source": [
    "1) users with one tweet\n",
    "\n",
    "2)  users with two or three tweets\n",
    "\n",
    "3) users with more than three tweets"
   ]
  },
  {
   "cell_type": "markdown",
   "metadata": {},
   "source": [
    "#### without using mongoDB index"
   ]
  },
  {
   "cell_type": "code",
   "execution_count": null,
   "metadata": {},
   "outputs": [],
   "source": [
    "#### finding users with one tweet:\n",
    "count_tweet_of_each_ID = {'$group' :{'_id' : \"$senderUsername\",\n",
    "                                     'twitt_number': { '$sum': 1 }}}\n",
    "match_1 = {'$match': { \"twitt_number\": { '$eq': 1} }}\n",
    "project = {'$project' : { \"twitt_number\":1, '_id': 0}}\n",
    "                    \n",
    "res_one_tweet = series_collection.aggregate(\n",
    "     [count_tweet_of_each_ID, match_1, project])\n",
    "\n",
    "### find users with 2&3 tweets:\n",
    "count_tweet_of_each_ID = {'$group' :{'_id' : \"$senderUsername\",\n",
    "          'twitt_number': { '$sum': 1 }}}\n",
    "match_2_3 = {'$match': { \"twitt_number\": { '$gte': 2, '$lte': 3 } }}\n",
    "                    \n",
    "res_2_3_tweets = series_collection.aggregate(\n",
    "     [count_tweet_of_each_ID, match_2_3, project])\n",
    "\n",
    "### find users with more than 3 tweets:\n",
    "count_tweet_of_each_ID = {'$group' :{'_id' : \"$senderUsername\",\n",
    "          'twitt_number': { '$sum': 1 }}}\n",
    "match_gtr_4 = {'$match': { \"twitt_number\": { '$gt': 3} }}\n",
    "                    \n",
    "res_more_than_3 = series_collection.aggregate(\n",
    "     [count_tweet_of_each_ID, match_gtr_4, project])\n",
    "   \n",
    "end_time = time.time()\n",
    "delta_time = end_time - start_time\n",
    "print('run time :', delta_time)\n",
    "print(f'Number of one-tweet-user: {len(list(res_one_tweet))}')\n",
    "print(f'Number of two and three-tweet-user: {len(list(res_2_3_tweets))}')\n",
    "print(f'Number of more than three-tweets-user: {len(list(res_more_than_3))}')"
   ]
  },
  {
   "cell_type": "markdown",
   "metadata": {},
   "source": [
    "#### using mongodb index"
   ]
  },
  {
   "cell_type": "code",
   "execution_count": null,
   "metadata": {},
   "outputs": [],
   "source": [
    "### Adding index to field\n",
    "series_collection.create_index(\n",
    "        [(\"senderUsername\", pymongo.DESCENDING)])\n",
    "start_time = time.time() \n",
    "#### finding users with one tweet:\n",
    "count_tweet_of_each_ID = {'$group' :\n",
    "    {'_id' : \"$senderUsername\",'twitt_number': { '$sum': 1 }}}\n",
    "match_gtr_4 = {'$match': { \"twitt_number\": { '$eq': 1 } }}\n",
    "project = {'$project' : { \"twitt_number\":1, '_id': 0}}\n",
    "                    \n",
    "res_one_tweet = series_collection.aggregate(\n",
    "     [count_tweet_of_each_ID, match_gtr_4, project])\n",
    "#### finding users with 2&3 tweets:\n",
    "count_tweet_of_each_ID = {'$group' :{\n",
    "    '_id' : \"$senderUsername\",'twitt_number': { '$sum': 1 }}}\n",
    "match_gtr_4 = {'$match': { \"twitt_number\": { '$gt': 1, '$lt': 4 } }}\n",
    "project = {'$project' : { \"twitt_number\":1, '_id': 0}}\n",
    "                    \n",
    "res_2_3_tweets = series_collection.aggregate(\n",
    "     [count_tweet_of_each_ID, match_gtr_4, project])\n",
    "#### finding users with more than 3 tweets:\n",
    "count_tweet_of_each_ID = {'$group' :{\n",
    "          '_id' : \"$senderUsername\",\n",
    "          'twitt_number': { '$sum': 1 }}}\n",
    "match_gtr_4 = {'$match': { \"twitt_number\": { '$gte': 4 } }}\n",
    "project = {'$project' : { \"twitt_number\":1, '_id': 0}}\n",
    "                    \n",
    "res_more_than_3 = series_collection.aggregate(\n",
    "     [count_tweet_of_each_ID, match_gtr_4, project])\n",
    "end_time = time.time()\n",
    "delta_time = end_time - start_time\n",
    "print('run time:', delta_time)\n",
    "print(f'Number of users with one tweet: {len(list(res_one_tweet))}')\n",
    "print(f'Number of users with two and three tweets: {len(list(res_2_3_tweets))}')\n",
    "print(f'Number of users with more than three tweets: {len(list(res_more_than_3))}')"
   ]
  },
  {
   "cell_type": "markdown",
   "metadata": {},
   "source": [
    "### Count the number of tweets for each hashtag"
   ]
  },
  {
   "cell_type": "code",
   "execution_count": null,
   "metadata": {},
   "outputs": [],
   "source": [
    "start_time = time.time() \n",
    "unwind_hashtag_arr = { '$unwind': \"$hashtags\" }\n",
    "\n",
    "group_by = {'$group' :{'_id' : \"$hashtags\",\n",
    "          'twitt_number': { '$sum': 1 }}}\n",
    "\n",
    "sort = { '$sort' : { 'twitt_number' : -1 } }\n",
    "                  \n",
    "res_one_tweet = series_collection.aggregate(\n",
    "            [unwind_hashtag_arr, group_by, sort])\n",
    "\n",
    "### end time\n",
    "end_time = time.time()\n",
    "delta_time = end_time - start_time\n",
    "print('Run time', delta_time)\n",
    "## printing elements of res_more_than_3\n",
    "for i in res_one_tweet:\n",
    "    pprint.pprint(i)  "
   ]
  },
  {
   "cell_type": "markdown",
   "metadata": {},
   "source": [
    "### For tweets with parentId, remove the field named type"
   ]
  },
  {
   "cell_type": "code",
   "execution_count": null,
   "metadata": {},
   "outputs": [],
   "source": [
    "start_time = time.time() \n",
    "series_collection.update_many(\n",
    "              {'parentId':True},\n",
    "              {'$unset':{'type': '' }})\n",
    "                              \n",
    "end_time = time.time()\n",
    "delta_time = end_time - start_time\n",
    "print('run time:', delta_time)"
   ]
  },
  {
   "cell_type": "markdown",
   "metadata": {},
   "source": [
    "### What are the most and least repetitive hastags?"
   ]
  },
  {
   "cell_type": "code",
   "execution_count": null,
   "metadata": {},
   "outputs": [],
   "source": [
    "start_time = time.time() \n",
    "unwind_hashtag_arr = { '$unwind': \"$hashtags\" }\n",
    "group_by = {'$group' :{'_id' : \"$hashtags\",\n",
    "                       'twitt_number': { '$sum': 1 }}}\n",
    "sort_most = { '$sort' : { 'twitt_number' : -1 } }\n",
    "sort_least = { '$sort' : { 'twitt_number' : 1 } }\n",
    "lim = { '$limit': 1 }\n",
    "                 \n",
    "most_Repetitive = series_collection.aggregate(\n",
    "     [unwind_hashtag_arr, group_by, sort_most, lim])\n",
    "\n",
    "least_Repetitive = series_collection.aggregate(\n",
    "     [unwind_hashtag_arr, group_by, sort_least, lim])\n",
    "### end time\n",
    "end_time = time.time()\n",
    "delta_time = end_time - start_time\n",
    "print('run time: ', delta_time)\n",
    "print(f'most Repetitive hashtag: {list(most_Repetitive)}')\n",
    "print(' -------------------------------------------------------- ')\n",
    "print(f'least Repetitive hashtag: {list(least_Repetitive)}')\n"
   ]
  },
  {
   "cell_type": "markdown",
   "metadata": {},
   "source": [
    "### Each day, find out tne most popular hashtags"
   ]
  },
  {
   "cell_type": "markdown",
   "metadata": {},
   "source": [
    "#### without using mongoDB index"
   ]
  },
  {
   "cell_type": "code",
   "execution_count": null,
   "metadata": {},
   "outputs": [],
   "source": [
    "start_time = time.time() \n",
    "#### finding 10-most relevant tweets:\n",
    "# filter by day number\n",
    "filter_time = { '$match': {'sendTimePersian':{ '$regex': '.*/19 .*'}}}\n",
    "### unwind array elements\n",
    "unwind_hashtag_arr = { '$unwind': \"$hashtags\" }  \n",
    "count_tweets = {'$group' :\n",
    "    {'_id' : \"$hashtags\",'twitt_number': { '$sum': 1 }}}\n",
    "### sorting by tweets number\n",
    "sort = { '$sort' : { 'twitt_number' : -1 } }\n",
    "### limiting the most ten hashtags\n",
    "lim = { '$limit': 10 }\n",
    "                 \n",
    "ten_most_relevant = series_collection.aggregate(\n",
    "     [filter_time, unwind_hashtag_arr, count_tweets, sort, lim])\n",
    "\n",
    "end_time = time.time()\n",
    "delta_time = end_time - start_time\n",
    "print('run time:', delta_time)\n",
    "for i in ten_most_relevant:\n",
    "    pprint.pprint(i)    "
   ]
  },
  {
   "cell_type": "markdown",
   "metadata": {},
   "source": [
    "#### using mongoDB index"
   ]
  },
  {
   "cell_type": "code",
   "execution_count": null,
   "metadata": {},
   "outputs": [],
   "source": [
    "### Adding index to field\n",
    "series_collection.create_index(\n",
    "        [(\"sendTimePersian\", pymongo.DESCENDING),\n",
    "         (\"hashtags\", pymongo.DESCENDING)])\n",
    "\n",
    "start_time = time.time() \n",
    "#### finding 10-most relevant tweets:\n",
    "filter_time = { '$match': {'sendTimePersian':{ '$regex': '.*/14 .*'}}}\n",
    "### unwind array elements\n",
    "unwind_hashtag_arr = { '$unwind': \"$hashtags\" }\n",
    "count_tweets = {'$group' :{\n",
    "    '_id' : \"$hashtags\",'twitt_number': { '$sum': 1 }}}\n",
    "### sorting by tweets number\n",
    "sort = { '$sort' : { 'twitt_number' : -1 } }\n",
    "### limiting the most ten hashtags\n",
    "lim = { '$limit': 10 }\n",
    "                   \n",
    "ten_most_relevant = series_collection.aggregate(\n",
    "     [filter_time, unwind_hashtag_arr, count_tweets, sort, lim])\n",
    "\n",
    "end_time = time.time()\n",
    "delta_time = end_time - start_time\n",
    "print('run time:', delta_time)\n",
    "for i in ten_most_relevant:\n",
    "    pprint.pprint(i)  "
   ]
  },
  {
   "cell_type": "markdown",
   "metadata": {},
   "source": [
    "### which user is the most active? also include how many tweets he/she sent."
   ]
  },
  {
   "cell_type": "markdown",
   "metadata": {},
   "source": [
    "#### without using mongoDB index"
   ]
  },
  {
   "cell_type": "code",
   "execution_count": null,
   "metadata": {},
   "outputs": [],
   "source": [
    "start_time = time.time() \n",
    "# filter by day number. here I filtered by 14.\n",
    "filter_time = { '$match': {'sendTimePersian':{ '$regex': '.*/19 .*'}}}\n",
    "# group by senderUsername and counting each one tweets\n",
    "count_tweet_of_each_ID = {'$group' :{\n",
    "          '_id' : \"$senderUsername\",\n",
    "          'twitt_number': { '$sum': 1 }}}\n",
    "### sorting by tweets number\n",
    "sort = { '$sort' : { 'twitt_number' : -1 } }\n",
    "### limiting the most ten hashtags\n",
    "lim = { '$limit': 1 }\n",
    "project = {'$project' : { \"twitt_number\":1, 'sendTimePersian':1 }}\n",
    "                    \n",
    "res_one_tweet = series_collection.aggregate(\n",
    "     [filter_time, count_tweet_of_each_ID, sort, lim])\n",
    "\n",
    "end_time = time.time()\n",
    "delta_time = end_time - start_time\n",
    "print('run time:', delta_time)\n",
    "for i in res_one_tweet:\n",
    "    pprint.pprint(i) "
   ]
  },
  {
   "cell_type": "markdown",
   "metadata": {},
   "source": [
    "#### using mongoDB index"
   ]
  },
  {
   "cell_type": "code",
   "execution_count": null,
   "metadata": {},
   "outputs": [],
   "source": [
    "series_collection.create_index(\n",
    "        [(\"sendTimePersian\", pymongo.DESCENDING)])\n",
    "start_time = time.time() \n",
    "# filter by day number. here I filtered by 14.\n",
    "filter_time = { '$match': \n",
    "    {'sendTimePersian':{ '$regex': '.*/14 .*'}}}\n",
    "# group by senderUsername and counting each one tweets\n",
    "count_tweet_of_each_ID = {'$group' :{\n",
    "    '_id' : \"$senderUsername\",'twitt_number': { '$sum': 1 }}}\n",
    "### sorting by tweets number\n",
    "sort = { '$sort' : { 'twitt_number' : -1 } }\n",
    "### limiting the most ten hashtags\n",
    "lim = { '$limit': 1 }\n",
    "                   \n",
    "res_one_tweet = series_collection.aggregate(\n",
    "     [filter_time, count_tweet_of_each_ID, sort, lim])\n",
    "\n",
    "end_time = time.time()\n",
    "delta_time = end_time - start_time\n",
    "print('run time:', delta_time)\n",
    "for i in res_one_tweet:\n",
    "    pprint.pprint(i)    \n"
   ]
  }
 ],
 "metadata": {
  "kernelspec": {
   "display_name": "Python 3.8.10 64-bit",
   "language": "python",
   "name": "python3"
  },
  "language_info": {
   "name": "python",
   "version": "3.8.10"
  },
  "orig_nbformat": 4,
  "vscode": {
   "interpreter": {
    "hash": "916dbcbb3f70747c44a77c7bcd40155683ae19c65e1c03b4aa3499c5328201f1"
   }
  }
 },
 "nbformat": 4,
 "nbformat_minor": 2
}
